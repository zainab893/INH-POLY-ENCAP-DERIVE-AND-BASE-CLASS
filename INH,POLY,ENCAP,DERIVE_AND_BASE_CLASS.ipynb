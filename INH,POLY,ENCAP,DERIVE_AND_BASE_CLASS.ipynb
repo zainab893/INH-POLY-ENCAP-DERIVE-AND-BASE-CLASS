{
  "nbformat": 4,
  "nbformat_minor": 0,
  "metadata": {
    "colab": {
      "provenance": []
    },
    "kernelspec": {
      "name": "python3",
      "display_name": "Python 3"
    },
    "language_info": {
      "name": "python"
    }
  },
  "cells": [
    {
      "cell_type": "code",
      "execution_count": null,
      "metadata": {
        "id": "50q0jSjnc9Tx"
      },
      "outputs": [],
      "source": []
    },
    {
      "cell_type": "code",
      "source": [],
      "metadata": {
        "id": "S28pU3kTc908"
      },
      "execution_count": null,
      "outputs": []
    },
    {
      "cell_type": "code",
      "source": [
        "# ENCAPSULATION\n",
        "class Car:\n",
        "    def __init__(self, brand, model):\n",
        "        self.__brand = brand   # Private attribute\n",
        "        self.__model = model   # Private attribute\n",
        "\n",
        "    def set_brand(self, brand):\n",
        "        self.__brand = brand  # Public method to modify private attribute\n",
        "\n",
        "    def get_brand(self):\n",
        "        return self.__brand   # Public method to access private attribute\n",
        "\n",
        "car = Car(\"Toyota\", \"Corolla\")\n",
        "print(car.get_brand())  # Output: Toyota\n",
        "car.set_brand(\"Honda\")\n",
        "print(car.get_brand())  # Output: Honda"
      ],
      "metadata": {
        "colab": {
          "base_uri": "https://localhost:8080/"
        },
        "id": "KjnLVrWtc95M",
        "outputId": "8e0cbaca-0194-4253-d87c-eef7efe62b48"
      },
      "execution_count": 9,
      "outputs": [
        {
          "output_type": "stream",
          "name": "stdout",
          "text": [
            "Toyota\n",
            "Honda\n"
          ]
        }
      ]
    },
    {
      "cell_type": "code",
      "source": [
        "class BankAccount:\n",
        "    def __init__(self, balance):\n",
        "        self.__balance = balance  # Private attribute\n",
        "\n",
        "    def deposit(self, amount):\n",
        "        if amount > 0:\n",
        "            self.__balance += amount  # Modify private attribute\n",
        "            print(f\"Deposited {amount}. New balance: {self.__balance}\")\n",
        "        else:\n",
        "            print(\"Deposit amount must be positive.\")\n",
        "\n",
        "    def get_balance(self):\n",
        "        return self.__balance  # Access private attribute\n",
        "\n",
        "account = BankAccount(1000)\n",
        "account.deposit(500)  # Output: Deposited 500. New balance: 1500\n",
        "print(account.get_balance())  # Output: 1500\n"
      ],
      "metadata": {
        "colab": {
          "base_uri": "https://localhost:8080/"
        },
        "id": "ftij78pwemWr",
        "outputId": "e33a96a2-a784-40ba-c3ae-bf4dd8956a92"
      },
      "execution_count": 2,
      "outputs": [
        {
          "output_type": "stream",
          "name": "stdout",
          "text": [
            "Deposited 500. New balance: 1500\n",
            "1500\n"
          ]
        }
      ]
    },
    {
      "cell_type": "code",
      "source": [
        "# INHERITENCE\n",
        "class Animal:\n",
        "    def speak(self):\n",
        "        print(\"Animal speaks.\")\n",
        "\n",
        "class Dog(Animal):\n",
        "    def speak(self):\n",
        "        print(\"Dog barks.\")\n",
        "\n",
        "dog = Dog()\n",
        "dog.speak()  # Output: Dog barks."
      ],
      "metadata": {
        "colab": {
          "base_uri": "https://localhost:8080/"
        },
        "id": "4orfNEfjemZ-",
        "outputId": "fdf94d00-7103-470e-8ff4-348f339bcc85"
      },
      "execution_count": 3,
      "outputs": [
        {
          "output_type": "stream",
          "name": "stdout",
          "text": [
            "Dog barks.\n"
          ]
        }
      ]
    },
    {
      "cell_type": "code",
      "source": [
        "class Animal:\n",
        "    def move(self):\n",
        "        print(\"Animal is moving.\")\n",
        "\n",
        "class Fish(Animal):\n",
        "    def move(self):\n",
        "        print(\"Fish swims.\")\n",
        "\n",
        "class Bird(Animal):\n",
        "    def move(self):\n",
        "        print(\"Bird flies.\")\n",
        "\n",
        "fish = Fish()\n",
        "bird = Bird()\n",
        "fish.move()  # Output: Fish swims.\n",
        "bird.move()  # Output: Bird flies."
      ],
      "metadata": {
        "colab": {
          "base_uri": "https://localhost:8080/"
        },
        "id": "wW-CaqHgemdR",
        "outputId": "a5d3cd18-b6f8-45d5-ec02-fa9a27c9e753"
      },
      "execution_count": 4,
      "outputs": [
        {
          "output_type": "stream",
          "name": "stdout",
          "text": [
            "Fish swims.\n",
            "Bird flies.\n"
          ]
        }
      ]
    },
    {
      "cell_type": "code",
      "source": [
        "# POLYMORPHISM\n",
        "class Animal:\n",
        "    def speak(self):\n",
        "        print(\"Animal speaks.\")\n",
        "\n",
        "class Dog(Animal):\n",
        "    def speak(self):\n",
        "        print(\"Dog barks.\")\n",
        "\n",
        "class Cat(Animal):\n",
        "    def speak(self):\n",
        "        print(\"Cat meows.\")\n",
        "\n",
        "animals = [Dog(), Cat()]\n",
        "for animal in animals:\n",
        "    animal.speak()  # Output: Dog barks, Cat meows"
      ],
      "metadata": {
        "colab": {
          "base_uri": "https://localhost:8080/"
        },
        "id": "yqiA8OL6emh8",
        "outputId": "87d05af4-b4d5-4074-914c-da8aaeb84c0c"
      },
      "execution_count": 5,
      "outputs": [
        {
          "output_type": "stream",
          "name": "stdout",
          "text": [
            "Dog barks.\n",
            "Cat meows.\n"
          ]
        }
      ]
    },
    {
      "cell_type": "code",
      "source": [
        "class Shape:\n",
        "    def area(self):\n",
        "        raise NotImplementedError(\"Subclasses must implement this method.\")\n",
        "\n",
        "class Circle(Shape):\n",
        "    def __init__(self, radius):\n",
        "        self.radius = radius\n",
        "\n",
        "    def area(self):\n",
        "        return 3.14 * self.radius * self.radius\n",
        "\n",
        "class Square(Shape):\n",
        "    def __init__(self, side):\n",
        "        self.side = side\n",
        "\n",
        "    def area(self):\n",
        "        return self.side * self.side\n",
        "\n",
        "shapes = [Circle(5), Square(4)]\n",
        "for shape in shapes:\n",
        "    print(f\"Area: {shape.area()}\")  # Output: Area: 78.5, Area: 16"
      ],
      "metadata": {
        "colab": {
          "base_uri": "https://localhost:8080/"
        },
        "id": "42Ua1BOBc98m",
        "outputId": "db236627-0682-4627-96a4-a0a2e4a2f28b"
      },
      "execution_count": 6,
      "outputs": [
        {
          "output_type": "stream",
          "name": "stdout",
          "text": [
            "Area: 78.5\n",
            "Area: 16\n"
          ]
        }
      ]
    },
    {
      "cell_type": "code",
      "source": [
        "# DERIVE AND BASE CLASS\n",
        "class Vehicle:\n",
        "    def move(self):\n",
        "        print(\"Vehicle is moving.\")\n",
        "\n",
        "class Car(Vehicle):  # Derived class\n",
        "    def move(self):\n",
        "        print(\"Car is driving.\")\n",
        "\n",
        "class Bike(Vehicle):  # Derived class\n",
        "    def move(self):\n",
        "        print(\"Bike is pedaling.\")\n",
        "\n",
        "vehicle = Vehicle()\n",
        "vehicle.move()  # Output: Vehicle is moving.\n",
        "\n",
        "car = Car()\n",
        "car.move()  # Output: Car is driving.\n",
        "\n",
        "bike = Bike()\n",
        "bike.move()  # Output: Bike is pedaling."
      ],
      "metadata": {
        "colab": {
          "base_uri": "https://localhost:8080/"
        },
        "id": "LglTXc7Fc-AN",
        "outputId": "cfae3bbd-0fea-46d2-e969-a9c508e5f177"
      },
      "execution_count": 7,
      "outputs": [
        {
          "output_type": "stream",
          "name": "stdout",
          "text": [
            "Vehicle is moving.\n",
            "Car is driving.\n",
            "Bike is pedaling.\n"
          ]
        }
      ]
    },
    {
      "cell_type": "code",
      "source": [
        "class Animal:\n",
        "    def sound(self):\n",
        "        print(\"Animal makes a sound.\")\n",
        "\n",
        "class Dog(Animal):  # Derived class\n",
        "    def sound(self):\n",
        "        print(\"Dog barks.\")\n",
        "\n",
        "class Cat(Animal):  # Derived class\n",
        "    def sound(self):\n",
        "        print(\"Cat meows.\")\n",
        "\n",
        "class Bird(Animal):  # Derived class\n",
        "    def sound(self):\n",
        "        print(\"Bird chirps.\")\n",
        "\n",
        "animal = Animal()\n",
        "dog = Dog()\n",
        "cat = Cat()\n",
        "bird = Bird()\n",
        "\n",
        "animal.sound()  # Output: Animal makes a sound.\n",
        "dog.sound()     # Output: Dog barks.\n",
        "cat.sound()     # Output: Cat meows.\n",
        "bird.sound()    # Output: Bird chirps."
      ],
      "metadata": {
        "colab": {
          "base_uri": "https://localhost:8080/"
        },
        "id": "RNl8_Pi5e8o-",
        "outputId": "b7f34019-44be-479a-e6dd-7cb3d312748b"
      },
      "execution_count": 8,
      "outputs": [
        {
          "output_type": "stream",
          "name": "stdout",
          "text": [
            "Animal makes a sound.\n",
            "Dog barks.\n",
            "Cat meows.\n",
            "Bird chirps.\n"
          ]
        }
      ]
    }
  ]
}